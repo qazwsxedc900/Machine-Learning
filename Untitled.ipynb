{
 "cells": [
  {
   "cell_type": "code",
   "execution_count": 2,
   "metadata": {},
   "outputs": [
    {
     "data": {
      "text/plain": [
       "'\\n完成以下的物件\\n一個成績 Score 的物件 \\n ▸有國文 Chinese, 英⽂ English, 數學 Math 的成績屬性 \\n ▸初始化時沒提供的成績資料設定為 None，有提供則改為那個數字 \\n ▸計算出不為 None 的平均成績的方法 \\n一個學⽣ Student 物件 \\n ▸有名字 name，身分證 id，成績 score 屬性 \\n ▸其中 id 要是私有的 \\n ▸初始化輸入名字，身分證，選擇性輸入國⽂英文數學的成績\\n '"
      ]
     },
     "execution_count": 2,
     "metadata": {},
     "output_type": "execute_result"
    }
   ],
   "source": [
    "\"\"\"\n",
    "完成以下的物件\n",
    "一個成績 Score 的物件 \n",
    " ▸有國文 Chinese, 英⽂ English, 數學 Math 的成績屬性 \n",
    " ▸初始化時沒提供的成績資料設定為 None，有提供則改為那個數字 \n",
    " ▸計算出不為 None 的平均成績的方法 \n",
    "一個學⽣ Student 物件 \n",
    " ▸有名字 name，身分證 id，成績 score 屬性 \n",
    " ▸其中 id 要是私有的 \n",
    " ▸初始化輸入名字，身分證，選擇性輸入國⽂英文數學的成績\n",
    " \"\"\""
   ]
  },
  {
   "cell_type": "code",
   "execution_count": 33,
   "metadata": {},
   "outputs": [],
   "source": [
    "class Score:\n",
    "    def __init__(self, Chinese = None, English = None, Math = None):\n",
    "        self.Chinese = Chinese\n",
    "        self.English = English\n",
    "        self.Math = Math\n",
    "    def average(self):\n",
    "        if(self.Chinese and self.English and self.Math):\n",
    "            return (self.Chinese+self.English+self.Math)/3\n",
    "        return None\n",
    "class Student:\n",
    "    def __init__(self, name, id, chinese =None, english = None, math=None):\n",
    "        self.name=name;\n",
    "        self.__id=id;\n",
    "        self.score = Score(chinese, english, math)\n",
    "    def getavg(self):\n",
    "        avg=self.score.average()\n",
    "        if avg: \n",
    "            return avg\n",
    "        return 'No Score'"
   ]
  },
  {
   "cell_type": "code",
   "execution_count": 34,
   "metadata": {},
   "outputs": [],
   "source": [
    "Std1 = Student('hao', 10, 100, 80, 90)"
   ]
  },
  {
   "cell_type": "code",
   "execution_count": 36,
   "metadata": {},
   "outputs": [
    {
     "data": {
      "text/plain": [
       "90.0"
      ]
     },
     "execution_count": 36,
     "metadata": {},
     "output_type": "execute_result"
    }
   ],
   "source": [
    "Std1.getavg()"
   ]
  },
  {
   "cell_type": "code",
   "execution_count": 19,
   "metadata": {},
   "outputs": [],
   "source": []
  },
  {
   "cell_type": "code",
   "execution_count": 20,
   "metadata": {},
   "outputs": [],
   "source": []
  },
  {
   "cell_type": "code",
   "execution_count": null,
   "metadata": {},
   "outputs": [],
   "source": []
  }
 ],
 "metadata": {
  "kernelspec": {
   "display_name": "Python 3",
   "language": "python",
   "name": "python3"
  },
  "language_info": {
   "codemirror_mode": {
    "name": "ipython",
    "version": 3
   },
   "file_extension": ".py",
   "mimetype": "text/x-python",
   "name": "python",
   "nbconvert_exporter": "python",
   "pygments_lexer": "ipython3",
   "version": "3.8.2"
  }
 },
 "nbformat": 4,
 "nbformat_minor": 4
}
