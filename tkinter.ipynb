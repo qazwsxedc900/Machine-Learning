{
 "cells": [
  {
   "cell_type": "code",
   "execution_count": 1,
   "metadata": {},
   "outputs": [
    {
     "data": {
      "text/plain": [
       "''"
      ]
     },
     "execution_count": 1,
     "metadata": {},
     "output_type": "execute_result"
    }
   ],
   "source": [
    "import tkinter as tk\n",
    "\n",
    "window=tk.Tk()\n",
    "window.title('my window')\n",
    "window.geometry('800x600')"
   ]
  },
  {
   "cell_type": "code",
   "execution_count": 2,
   "metadata": {},
   "outputs": [],
   "source": [
    "var = tk.StringVar()\n",
    "label = tk.Label(window, textvariable=var, bg='green', font=('Arial', 12), width = 25, height = 15)\n",
    "label.pack()"
   ]
  },
  {
   "cell_type": "code",
   "execution_count": 3,
   "metadata": {},
   "outputs": [],
   "source": [
    "hit = False\n",
    "def hit_me():\n",
    "    global hit\n",
    "    if(hit == False):\n",
    "        var.set('Ouch!')\n",
    "        hit = True\n",
    "    else:\n",
    "        var.set('hit me, please')\n",
    "        hit = False"
   ]
  },
  {
   "cell_type": "code",
   "execution_count": 4,
   "metadata": {},
   "outputs": [],
   "source": [
    "but = tk.Button(window, text = 'hit me', width = 15, height = 2, command = hit_me)\n",
    "but.pack()"
   ]
  },
  {
   "cell_type": "code",
   "execution_count": 5,
   "metadata": {},
   "outputs": [],
   "source": [
    "entry = tk.Entry(window, show='no')\n",
    "entry.pack()\n",
    "text = tk.Text(window, height = 2)\n",
    "text.pack()"
   ]
  },
  {
   "cell_type": "code",
   "execution_count": 6,
   "metadata": {},
   "outputs": [],
   "source": [
    "def insert_point():\n",
    "    password = entry.get()\n",
    "    text.insert('insert', password)"
   ]
  },
  {
   "cell_type": "code",
   "execution_count": 7,
   "metadata": {},
   "outputs": [],
   "source": [
    "def insert_end():\n",
    "    password = entry.get()\n",
    "    text.insert('end', password)"
   ]
  },
  {
   "cell_type": "code",
   "execution_count": 8,
   "metadata": {},
   "outputs": [],
   "source": [
    "but1 = tk.Button(window, text='insert point', width=20, height=5, command=insert_point)\n",
    "but2 = tk.Button(window, text='insert point', width=20, height=5, command=insert_end)\n",
    "but1.pack()\n",
    "but2.pack()"
   ]
  },
  {
   "cell_type": "code",
   "execution_count": 9,
   "metadata": {},
   "outputs": [],
   "source": [
    "window.mainloop()"
   ]
  },
  {
   "cell_type": "code",
   "execution_count": null,
   "metadata": {},
   "outputs": [],
   "source": []
  },
  {
   "cell_type": "code",
   "execution_count": null,
   "metadata": {},
   "outputs": [],
   "source": []
  },
  {
   "cell_type": "code",
   "execution_count": null,
   "metadata": {},
   "outputs": [],
   "source": []
  }
 ],
 "metadata": {
  "kernelspec": {
   "display_name": "Python 3",
   "language": "python",
   "name": "python3"
  },
  "language_info": {
   "codemirror_mode": {
    "name": "ipython",
    "version": 3
   },
   "file_extension": ".py",
   "mimetype": "text/x-python",
   "name": "python",
   "nbconvert_exporter": "python",
   "pygments_lexer": "ipython3",
   "version": "3.8.2"
  }
 },
 "nbformat": 4,
 "nbformat_minor": 4
}
